{
 "cells": [
  {
   "cell_type": "code",
   "execution_count": 3,
   "id": "49a2422a-fdcd-43dc-a1ad-ffb5a4e21ecc",
   "metadata": {},
   "outputs": [
    {
     "name": "stdout",
     "output_type": "stream",
     "text": [
      "hello\n"
     ]
    }
   ],
   "source": [
    "print(\"hello\");"
   ]
  },
  {
   "cell_type": "code",
   "execution_count": 13,
   "id": "c7ee8c58-12e9-49c3-b470-0bdbcc0eee9e",
   "metadata": {},
   "outputs": [
    {
     "name": "stdin",
     "output_type": "stream",
     "text": [
      "Choisissez l'opération (1/2/3/4) :  7\n",
      "donner la valeur de a  1\n",
      "donner la valeur de b  2\n"
     ]
    },
    {
     "name": "stdout",
     "output_type": "stream",
     "text": [
      "Choix invalide! Veuillez réessayer.\n"
     ]
    }
   ],
   "source": [
    "operation=input(\"Choisissez l'opération (1/2/3/4) : \")\n",
    "a=float(input(\"donner la valeur de a \"))\n",
    "b=float(input(\"donner la valeur de b \"))\n",
    "if operation==\"1\":\n",
    "    print(\"Résultat d'Addition: {} \".format(a+b))\n",
    "elif operation==\"2\":\n",
    "    print(\"Résultat de Soustraction: {} \".format(a-b))\n",
    "elif operation==\"3\":\n",
    "    print(\"Résultat de Multiplication: {} \".format(a*b))\n",
    "elif operation==\"4\":\n",
    "    if b==0:\n",
    "        print(\"forme indeterminer\")\n",
    "    else:\n",
    "        print(\"Résultat de Division: {} \".format(a/b))\n",
    "        \n",
    "else:\n",
    "    print(\"Choix invalide! Veuillez réessayer.\")\n"
   ]
  },
  {
   "cell_type": "code",
   "execution_count": null,
   "id": "8dbfb7e5-4ec0-4f5d-8970-de8a05d46a18",
   "metadata": {},
   "outputs": [],
   "source": []
  },
  {
   "cell_type": "code",
   "execution_count": null,
   "id": "f8d7677c-3459-4cc5-af86-d5db39e753f7",
   "metadata": {},
   "outputs": [],
   "source": []
  }
 ],
 "metadata": {
  "kernelspec": {
   "display_name": "Python 3 (ipykernel)",
   "language": "python",
   "name": "python3"
  },
  "language_info": {
   "codemirror_mode": {
    "name": "ipython",
    "version": 3
   },
   "file_extension": ".py",
   "mimetype": "text/x-python",
   "name": "python",
   "nbconvert_exporter": "python",
   "pygments_lexer": "ipython3",
   "version": "3.12.6"
  }
 },
 "nbformat": 4,
 "nbformat_minor": 5
}
