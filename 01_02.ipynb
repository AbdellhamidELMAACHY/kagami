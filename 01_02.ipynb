{
 "cells": [
  {
   "cell_type": "markdown",
   "id": "9a3cc068-3f60-44ff-b2e9-e3f8916a5743",
   "metadata": {},
   "source": [
    "## Syntaxe de Base"
   ]
  },
  {
   "cell_type": "markdown",
   "id": "8aee66e3-1bb3-4af1-9e1f-1f68261250ef",
   "metadata": {},
   "source": [
    "### 1- Les Commnetaires\n",
    "Les commentaires sont des notes dans votre code qui ne sont pas exécutées par l'interpréteur. Ils sont utilisés pour expliquer le code."
   ]
  },
  {
   "cell_type": "code",
   "execution_count": 7,
   "id": "d0798bb9-d06c-43d0-95ed-ac2b08bdea26",
   "metadata": {},
   "outputs": [
    {
     "name": "stdout",
     "output_type": "stream",
     "text": [
      "Ma premiere instruction sur jupyter notebook\n"
     ]
    }
   ],
   "source": [
    "print (\"Ma premiere instruction sur jupyter notebook\") # Commentaire sur une ligne"
   ]
  },
  {
   "cell_type": "code",
   "execution_count": 13,
   "id": "99ddcaf7-6ac6-4a34-a2f8-fc7d6423cbc5",
   "metadata": {},
   "outputs": [
    {
     "name": "stdout",
     "output_type": "stream",
     "text": [
      "c'est exemple d'un commentaire sur plusieurs lignes\n"
     ]
    }
   ],
   "source": [
    "\"\"\"\n",
    "Ceci est un\n",
    "commentaire sur\n",
    "plusieurs lignes\n",
    "\"\"\"\n",
    "print (\"c'est exemple d'un commentaire sur plusieurs lignes\")"
   ]
  },
  {
   "cell_type": "markdown",
   "id": "2b47555a-53f2-4cee-a3e1-e8afecaac3d7",
   "metadata": {},
   "source": [
    "## 2- Variables et Types de Données"
   ]
  },
  {
   "cell_type": "code",
   "execution_count": 21,
   "id": "c46dcc39-5603-4015-8c0d-4b0badee0537",
   "metadata": {},
   "outputs": [],
   "source": [
    "entier = 10          # type int\n",
    "flottant = 3.14      # type float\n",
    "texte = \"Bonjour\"    # type str\n",
    "booleen = True       # type bool"
   ]
  },
  {
   "cell_type": "markdown",
   "id": "72451b63-eed7-49de-8363-1f4edb3abe43",
   "metadata": {},
   "source": [
    "## Sortie\n",
    "La fonction print est utilisée pour afficher des informations à l'écran. Elle peut prendre plusieurs arguments et offre différentes manières de formater la sortie."
   ]
  },
  {
   "cell_type": "code",
   "execution_count": 24,
   "id": "57ec4c4d-e858-4892-95de-1ca551a5907b",
   "metadata": {},
   "outputs": [
    {
     "name": "stdout",
     "output_type": "stream",
     "text": [
      "Bonjour, monde!\n"
     ]
    }
   ],
   "source": [
    "print(\"Bonjour, monde!\")  # Format simple"
   ]
  },
  {
   "cell_type": "code",
   "execution_count": 29,
   "id": "b551e8fe-e775-4fb5-bff7-67bd4e1d82de",
   "metadata": {},
   "outputs": [
    {
     "name": "stdout",
     "output_type": "stream",
     "text": [
      "Nom: Alice Âge: 30\n"
     ]
    }
   ],
   "source": [
    "\"\"\" \n",
    "Affichage de Variables\n",
    "Vous pouvez afficher des variables en les séparant par des virgules. \n",
    "Python ajoute automatiquement un espace entre les éléments.\n",
    "\"\"\"\n",
    "nom = \"Alice\"\n",
    "age = 30\n",
    "print(\"Nom:\", nom, \"Âge:\", age)\n"
   ]
  },
  {
   "cell_type": "code",
   "execution_count": 34,
   "id": "e081c317-f0db-4f8e-81ed-83a300a17a25",
   "metadata": {},
   "outputs": [
    {
     "name": "stdout",
     "output_type": "stream",
     "text": [
      "Nom: Alice, Âge: 30\n"
     ]
    }
   ],
   "source": [
    "\"\"\"\n",
    "Formatage avec la Méthode str.format()\n",
    "La méthode str.format() offre une manière plus puissante et flexible de formater des chaînes.\n",
    "\"\"\"\n",
    "nom = \"Alice\"\n",
    "age = 30\n",
    "print(\"Nom: {}, Âge: {}\".format(nom, age))"
   ]
  },
  {
   "cell_type": "code",
   "execution_count": 36,
   "id": "719430d3-793f-4d01-b163-8dea4b180c1c",
   "metadata": {},
   "outputs": [
    {
     "name": "stdout",
     "output_type": "stream",
     "text": [
      "Âge: 30, Nom: Alice\n"
     ]
    }
   ],
   "source": [
    "print(\"Âge: {1}, Nom: {0}\".format(nom, age)) # Vous pouvez également spécifier l'ordre des arguments "
   ]
  },
  {
   "cell_type": "code",
   "execution_count": null,
   "id": "b77dfcc4-6e6f-40c3-ab96-7b4398f75f30",
   "metadata": {},
   "outputs": [],
   "source": [
    "\"\"\"\n",
    "Formatage avec les F-Strings (Python 3.6+)\n",
    "Les f-strings sont une manière moderne et concise de formater des chaînes. \n",
    "Elles sont préfixées par un f et permettent d'insérer des expressions Python directement dans les chaînes.\n",
    "\"\"\""
   ]
  }
 ],
 "metadata": {
  "kernelspec": {
   "display_name": "Python 3 (ipykernel)",
   "language": "python",
   "name": "python3"
  },
  "language_info": {
   "codemirror_mode": {
    "name": "ipython",
    "version": 3
   },
   "file_extension": ".py",
   "mimetype": "text/x-python",
   "name": "python",
   "nbconvert_exporter": "python",
   "pygments_lexer": "ipython3",
   "version": "3.12.6"
  }
 },
 "nbformat": 4,
 "nbformat_minor": 5
}
